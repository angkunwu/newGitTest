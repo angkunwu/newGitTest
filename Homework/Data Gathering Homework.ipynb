{
 "cells": [
  {
   "cell_type": "markdown",
   "metadata": {},
   "source": [
    "# Data Gathering Homework\n",
    "\n",
    "In this notebook are some exercises to gain more experience with the data gathering methods we explored in the corresponding lecture, <i>DataGathering</i>. Work through these as you see fit."
   ]
  },
  {
   "cell_type": "markdown",
   "metadata": {},
   "source": [
    "## Pandas and Data File Basics\n",
    "\n",
    "<ol>\n",
    "    <li>Load in the `adult.csv` dataset.</li>\n",
    "    <li>Find the number of people in each marriage-status category.</li>\n",
    "    <li>What is the average age for each sex?</li>\n",
    "    <li>For salary breakdown for each salary level?</li>\n",
    "    <li>Read the `pandas` docs or google to find all divorced people over 40.</li>\n",
    "    <li>Read in the data from one of pudding.cool's github repository data sets <a href=\"https://github.com/the-pudding/data\">https://github.com/the-pudding/data</a>.</li>\n",
    "</ol>"
   ]
  },
  {
   "cell_type": "code",
   "execution_count": null,
   "metadata": {},
   "outputs": [],
   "source": [
    "### SPACE TO ANSWER #####\n",
    "\n",
    "\n",
    "\n",
    "\n",
    "\n",
    "\n",
    "\n",
    "\n",
    "\n",
    "\n",
    "\n"
   ]
  },
  {
   "cell_type": "code",
   "execution_count": null,
   "metadata": {},
   "outputs": [],
   "source": [
    "### SPACE TO ANSWER #####\n",
    "\n",
    "\n",
    "\n",
    "\n",
    "\n",
    "\n",
    "\n",
    "\n",
    "\n",
    "\n",
    "\n"
   ]
  },
  {
   "cell_type": "code",
   "execution_count": null,
   "metadata": {},
   "outputs": [],
   "source": [
    "### SPACE TO ANSWER #####\n",
    "\n",
    "\n",
    "\n",
    "\n",
    "\n",
    "\n",
    "\n",
    "\n",
    "\n",
    "\n",
    "\n"
   ]
  },
  {
   "cell_type": "code",
   "execution_count": null,
   "metadata": {},
   "outputs": [],
   "source": [
    "### SPACE TO ANSWER #####\n",
    "\n",
    "\n",
    "\n",
    "\n",
    "\n",
    "\n",
    "\n",
    "\n",
    "\n",
    "\n",
    "\n"
   ]
  },
  {
   "cell_type": "markdown",
   "metadata": {},
   "source": [
    "## Data Websites\n",
    "\n",
    "<ol>\n",
    "    <li>Find a data set at Kaggle.com, explore it with `pandas`.</li>\n",
    "    <li>Explore one of the other non-Kaggle websites</li>\n",
    "</ol>"
   ]
  },
  {
   "cell_type": "markdown",
   "metadata": {},
   "source": [
    "## HTML Scraping With BeautifulSoup\n",
    "\n",
    "<ol>\n",
    "     <li>Write a script to get the title, author, and publishing date from the first 5 pages of articles from 538's politics section, <a href=\"https://fivethirtyeight.com/politics/features/\">https://fivethirtyeight.com/politics/features/</a>. </li>\n",
    "    <li>Write a script to get the scores from all of the Cleveland Browns games from this site, <a href=\"https://www.pro-football-reference.com/teams/cle/2019.htm\">https://www.pro-football-reference.com/teams/cle/2019.htm</a>.</li>\n",
    "    <li>Write a script to get the scores from every Cleveland Browns game from 2000 to 2019 from <a href=\"https://www.pro-football-reference.com/\">pro-football-reference.com</a>. Store them as a csv file with columns: year, game_num, opposing_team, browns_score, opp_score</li>\n",
    "    <li>Try to scrape the beer names, and beer types from the following link, <a href=\"https://untappd.com/w/lineage-brewing/193720/beer\">https://untappd.com/w/lineage-brewing/193720/beer</a>. What happens?</li>\n",
    "   \n",
    "</ol>"
   ]
  },
  {
   "cell_type": "code",
   "execution_count": 4,
   "metadata": {},
   "outputs": [],
   "source": [
    "#### SPACE TO ANSWER #####\n",
    "\n",
    "\n",
    "\n",
    "\n",
    "\n",
    "\n",
    "\n",
    "\n",
    "\n",
    "\n"
   ]
  },
  {
   "cell_type": "code",
   "execution_count": 5,
   "metadata": {},
   "outputs": [],
   "source": [
    "#### SPACE TO ANSWER #####\n",
    "\n",
    "\n",
    "\n",
    "\n",
    "\n",
    "\n",
    "\n",
    "\n",
    "\n"
   ]
  },
  {
   "cell_type": "code",
   "execution_count": 6,
   "metadata": {},
   "outputs": [],
   "source": [
    "#### SPACE TO ANSWER #####\n",
    "\n",
    "\n",
    "\n",
    "\n",
    "\n",
    "\n",
    "\n",
    "\n"
   ]
  },
  {
   "cell_type": "code",
   "execution_count": 7,
   "metadata": {},
   "outputs": [],
   "source": [
    "#### SPACE TO ANSWER #####\n",
    "\n",
    "\n",
    "\n",
    "\n",
    "\n",
    "\n",
    "\n",
    "\n"
   ]
  },
  {
   "cell_type": "markdown",
   "metadata": {},
   "source": [
    "## Python and Interacting With Databases\n",
    "\n",
    "<ol>\n",
    "    <li>Let's return to the cat_store.db database from class. Write some functions to does the following:\n",
    "        <ul>\n",
    "            <li>Takes in a customer id, a purchase, and a date,</li>\n",
    "            <li>Record the purchase in a purchases database and assigns it a unique purchase_id,</li>\n",
    "            <li>Subtracts the purchase from the products database, i.e. if someone comes in and buys 2 cat toys, the cat toy stock should go down by 2, remember that someone can't buy something if it doesn't exist.</li>\n",
    "        </ul>\n",
    "    </li>\n",
    "    <li>You can look at the chinook.db database's layout by looking at the sqlite-sample-database-diagram-color.pdf file. Answer the following:</li>\n",
    "        <ol>\n",
    "            <li>Examine the tracks table. What is the most popular genre? The least popular?</li>\n",
    "            <li>Write a function that takes in an ArtistId and returns a list of their tracks.</li>\n",
    "        </ol>\n",
    "</ol>"
   ]
  },
  {
   "cell_type": "code",
   "execution_count": 8,
   "metadata": {},
   "outputs": [],
   "source": [
    "#### SPACE TO ANSWER #####\n",
    "\n",
    "\n",
    "\n",
    "\n",
    "\n",
    "\n",
    "\n",
    "\n"
   ]
  },
  {
   "cell_type": "code",
   "execution_count": 9,
   "metadata": {},
   "outputs": [],
   "source": [
    "#### SPACE TO ANSWER #####\n",
    "\n",
    "\n",
    "\n",
    "\n",
    "\n",
    "\n",
    "\n",
    "\n"
   ]
  },
  {
   "cell_type": "code",
   "execution_count": 10,
   "metadata": {},
   "outputs": [],
   "source": [
    "#### SPACE TO ANSWER #####\n",
    "\n",
    "\n",
    "\n",
    "\n",
    "\n",
    "\n",
    "\n",
    "\n"
   ]
  },
  {
   "cell_type": "code",
   "execution_count": 11,
   "metadata": {},
   "outputs": [],
   "source": [
    "#### SPACE TO ANSWER #####\n",
    "\n",
    "\n",
    "\n",
    "\n",
    "\n",
    "\n",
    "\n",
    "\n"
   ]
  },
  {
   "cell_type": "code",
   "execution_count": 12,
   "metadata": {},
   "outputs": [],
   "source": [
    "#### SPACE TO ANSWER #####\n",
    "\n",
    "\n",
    "\n",
    "\n",
    "\n",
    "\n",
    "\n",
    "\n"
   ]
  },
  {
   "cell_type": "markdown",
   "metadata": {},
   "source": [
    "## Python API Wrappers\n",
    "\n",
    "<ol>\n",
    "    <li>Work through the Python Wrappers for APIs.</li>\n",
    "    <li>Using `praw` scrape the top ten \"hot\" posts from your favorite subreddit.</li>\n",
    "    <li>Using `praw` learn about <i>CommentForest</i>, so you are able to extract all of the comments and subcomments from a post.</li>\n",
    "    <li>Look at the documentation for `Spotipy` <a href=\"https://spotipy.readthedocs.io/en/2.6.1/#\">https://spotipy.readthedocs.io/en/2.6.1/#</a>.</li>\n",
    "    <li>Find the top ten songs for the Red Hot Chilli Peppers using `Spotipy`</li>\n",
    "</ol>"
   ]
  },
  {
   "cell_type": "code",
   "execution_count": 10,
   "metadata": {},
   "outputs": [],
   "source": [
    "#### SPACE TO ANSWER #####\n",
    "\n",
    "\n",
    "\n",
    "\n",
    "\n",
    "\n",
    "\n",
    "\n"
   ]
  },
  {
   "cell_type": "code",
   "execution_count": 10,
   "metadata": {},
   "outputs": [],
   "source": [
    "#### SPACE TO ANSWER #####\n",
    "\n",
    "\n",
    "\n",
    "\n",
    "\n",
    "\n",
    "\n",
    "\n"
   ]
  },
  {
   "cell_type": "code",
   "execution_count": 10,
   "metadata": {},
   "outputs": [],
   "source": [
    "#### SPACE TO ANSWER #####\n",
    "\n",
    "\n",
    "\n",
    "\n",
    "\n",
    "\n",
    "\n",
    "\n"
   ]
  },
  {
   "cell_type": "code",
   "execution_count": 10,
   "metadata": {},
   "outputs": [],
   "source": [
    "#### SPACE TO ANSWER #####\n",
    "\n",
    "\n",
    "\n",
    "\n",
    "\n",
    "\n",
    "\n",
    "\n"
   ]
  },
  {
   "cell_type": "code",
   "execution_count": 10,
   "metadata": {},
   "outputs": [],
   "source": [
    "#### SPACE TO ANSWER #####\n",
    "\n",
    "\n",
    "\n",
    "\n",
    "\n",
    "\n",
    "\n",
    "\n"
   ]
  }
 ],
 "metadata": {
  "kernelspec": {
   "display_name": "Python 3",
   "language": "python",
   "name": "python3"
  },
  "language_info": {
   "codemirror_mode": {
    "name": "ipython",
    "version": 3
   },
   "file_extension": ".py",
   "mimetype": "text/x-python",
   "name": "python",
   "nbconvert_exporter": "python",
   "pygments_lexer": "ipython3",
   "version": "3.7.4"
  }
 },
 "nbformat": 4,
 "nbformat_minor": 2
}
