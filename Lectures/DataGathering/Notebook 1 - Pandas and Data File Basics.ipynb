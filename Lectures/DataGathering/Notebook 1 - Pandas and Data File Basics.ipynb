{
 "cells": [
  {
   "cell_type": "markdown",
   "metadata": {},
   "source": [
    "## What You'll Accomplish in this Notebook\n",
    "\n",
    "In this notebook you will:\n",
    "<ul>\n",
    "    <li>work through a basic pandas refresher</li>\n",
    "    <li>learn about other file formats like tab delimited and json files</li>\n",
    "    <li>see how to read raw csv files from the web</li>\n",
    "    <li>review how to write data to file using pandas and base python</li>\n",
    "</ul>"
   ]
  },
  {
   "cell_type": "markdown",
   "metadata": {},
   "source": [
    "# Pandas and Data File Basics\n",
    "\n",
    "In this first notebook we will discuss some basic data file types you'll encounter throughout the course and in your data science career. We'll also talk about one of the most popular data handling python packages `pandas`. \n",
    "\n",
    "Let's go!"
   ]
  },
  {
   "cell_type": "code",
   "execution_count": null,
   "metadata": {},
   "outputs": [],
   "source": [
    "# We'll first import pandas\n",
    "# it is standard to import it as pd\n",
    "import pandas as pd"
   ]
  },
  {
   "cell_type": "markdown",
   "metadata": {},
   "source": [
    "## Reading in Data\n",
    "\n",
    "### Common Delimited Files\n",
    "\n",
    "#### CSVs\n",
    "\n",
    "A csv file is a file where data values are separated by commas and new rows are separated by carriage returns.\n",
    "\n",
    "To see what I mean open <a href=\"Data/iris.csv\">iris.csv</a> in the Data Folder.\n",
    "\n",
    "Now we'll see how to load this in using `pandas`."
   ]
  },
  {
   "cell_type": "code",
   "execution_count": null,
   "metadata": {},
   "outputs": [],
   "source": [
    "# iris holds the pandas dataframe (df) object\n",
    "# Using the default settings pandas reads in the first row as column headers\n",
    "# All subsequent rows are read in as entries in the df\n",
    "iris = pd.read_csv(\"iris.csv\")"
   ]
  },
  {
   "cell_type": "code",
   "execution_count": null,
   "metadata": {},
   "outputs": [],
   "source": [
    "# df.head shows the first 5 rows\n",
    "iris.head()"
   ]
  },
  {
   "cell_type": "code",
   "execution_count": null,
   "metadata": {},
   "outputs": [],
   "source": [
    "# df.tail shows the last 5 rows\n",
    "iris.tail()"
   ]
  },
  {
   "cell_type": "code",
   "execution_count": null,
   "metadata": {},
   "outputs": [],
   "source": [
    "# What happens if you put a whole number in\n",
    "# the parantheses of df.tail or df.head?\n",
    "# Try that here\n",
    "# If you already know the answer, great!\n",
    "\n",
    "\n",
    "\n",
    "\n",
    "\n"
   ]
  },
  {
   "cell_type": "code",
   "execution_count": null,
   "metadata": {},
   "outputs": [],
   "source": [
    "# What does df.sample() do?\n",
    "\n",
    "\n",
    "\n",
    "\n",
    "\n"
   ]
  },
  {
   "cell_type": "markdown",
   "metadata": {},
   "source": [
    "`pandas` dataframes come with a number of useful features that we'll use throughout the course. Let's use the iris dataset to examine a few."
   ]
  },
  {
   "cell_type": "code",
   "execution_count": null,
   "metadata": {},
   "outputs": [],
   "source": [
    "# df.describe()\n",
    "iris.describe()"
   ]
  },
  {
   "cell_type": "code",
   "execution_count": null,
   "metadata": {},
   "outputs": [],
   "source": [
    "# df.column_name\n",
    "# This produces a pandas series object, think of this like a vector\n",
    "print(type(iris.petal_width))\n",
    "print()\n",
    "print(iris.petal_width)"
   ]
  },
  {
   "cell_type": "code",
   "execution_count": null,
   "metadata": {},
   "outputs": [],
   "source": [
    "# series.value_counts()\n",
    "# This gives a count of the various values\n",
    "iris.iris_class.value_counts()"
   ]
  },
  {
   "cell_type": "markdown",
   "metadata": {},
   "source": [
    "### Practice"
   ]
  },
  {
   "cell_type": "code",
   "execution_count": null,
   "metadata": {},
   "outputs": [],
   "source": [
    "# See what df.mean() does\n",
    "\n",
    "\n",
    "\n"
   ]
  },
  {
   "cell_type": "code",
   "execution_count": null,
   "metadata": {},
   "outputs": [],
   "source": [
    "# What about df.max()?\n",
    "\n",
    "\n",
    "\n"
   ]
  },
  {
   "cell_type": "code",
   "execution_count": null,
   "metadata": {},
   "outputs": [],
   "source": [
    "# Now try the following\n",
    "# df.groupby()\n",
    "# Group the iris data by iris_class, then try to find\n",
    "# the mean petal_width by class\n",
    "\n",
    "\n",
    "\n",
    "\n",
    "\n"
   ]
  },
  {
   "cell_type": "markdown",
   "metadata": {},
   "source": [
    "#### Tab Delimited Files\n",
    "\n",
    "This was a good start. Delimited files can be separated by things other than commas, for example tabs. Let's see an example of that."
   ]
  },
  {
   "cell_type": "code",
   "execution_count": null,
   "metadata": {},
   "outputs": [],
   "source": [
    "# read_table is used for tab delimited files\n",
    "fly = pd.read_table(\"FlyRNAi_data_baseline_vs_EGF.txt\")"
   ]
  },
  {
   "cell_type": "code",
   "execution_count": null,
   "metadata": {},
   "outputs": [],
   "source": [
    "fly.head()"
   ]
  },
  {
   "cell_type": "markdown",
   "metadata": {},
   "source": [
    "### JSON Files\n",
    "\n",
    "JSON files are another popular way to store data. JSON stands for JavaScript Object Notation and is a standard format for data passed through the HTTP between web browsers and other applications. This format can be more complex and free-form than the prior two, but it is very similar to some of python's base data structures.\n",
    "\n",
    "Let's start with an example."
   ]
  },
  {
   "cell_type": "code",
   "execution_count": null,
   "metadata": {},
   "outputs": [],
   "source": [
    "# This imports the json package\n",
    "# a package that is available in base python\n",
    "import json \n",
    "\n",
    "# This opens the json file in read mode, and stores it in file\n",
    "file = open(\"miserables.json\",\"r\")\n",
    "\n",
    "# This stores the file as a python dictionary\n",
    "mis = json.load(file)\n",
    "\n",
    "# This closes the file\n",
    "file.close()"
   ]
  },
  {
   "cell_type": "code",
   "execution_count": null,
   "metadata": {},
   "outputs": [],
   "source": [
    "print(type(mis))"
   ]
  },
  {
   "cell_type": "code",
   "execution_count": null,
   "metadata": {
    "scrolled": false
   },
   "outputs": [],
   "source": [
    "mis"
   ]
  },
  {
   "cell_type": "markdown",
   "metadata": {},
   "source": [
    "As we can see this particular data would be difficult to read in as a table the way it is stored. However, we can use `pandas` to create a dataframe from this data all the same."
   ]
  },
  {
   "cell_type": "code",
   "execution_count": null,
   "metadata": {},
   "outputs": [],
   "source": [
    "# Here's a check, print the value corresponding to the\n",
    "# nodes key for the mis dictionary\n",
    "\n",
    "\n",
    "\n"
   ]
  },
  {
   "cell_type": "markdown",
   "metadata": {},
   "source": [
    "Okay now we are going to make a `pandas` dataframe from this dictionary."
   ]
  },
  {
   "cell_type": "code",
   "execution_count": null,
   "metadata": {},
   "outputs": [],
   "source": [
    "# Write a script to extract the 'name' feature as its own list\n",
    "# Call the list names\n",
    "\n",
    "names = \n",
    "\n",
    "\n"
   ]
  },
  {
   "cell_type": "code",
   "execution_count": null,
   "metadata": {},
   "outputs": [],
   "source": [
    "# Write a script to extract the 'group' feature as its own list\n",
    "# Call the list groups\n",
    "\n",
    "groups = \n",
    "\n",
    "\n"
   ]
  },
  {
   "cell_type": "code",
   "execution_count": null,
   "metadata": {},
   "outputs": [],
   "source": [
    "# Now run this to create a miserables character dataframe\n",
    "mis_df = pd.DataFrame({'name':names,'group':groups})\n",
    "\n",
    "mis_df.head(10)"
   ]
  },
  {
   "cell_type": "markdown",
   "metadata": {},
   "source": [
    "If your json file is arranged like a table you can just use `pandas` to read it in. Go read the file <a href = \"Data/json_table.json\">json_table.json</a> to see what file we're reading in."
   ]
  },
  {
   "cell_type": "code",
   "execution_count": null,
   "metadata": {},
   "outputs": [],
   "source": [
    "df = pd.read_json(\"json_table.json\")"
   ]
  },
  {
   "cell_type": "code",
   "execution_count": null,
   "metadata": {},
   "outputs": [],
   "source": [
    "df.head()"
   ]
  },
  {
   "cell_type": "markdown",
   "metadata": {},
   "source": [
    "### Practice\n",
    "\n",
    "Notice that `mis['nodes']` was in a tabular format. Write some code in the block below that makes a `pandas` dataframe without having to make lists. "
   ]
  },
  {
   "cell_type": "code",
   "execution_count": null,
   "metadata": {},
   "outputs": [],
   "source": [
    "# Do your work here\n",
    "\n",
    "\n",
    "\n",
    "\n",
    "\n"
   ]
  },
  {
   "cell_type": "markdown",
   "metadata": {},
   "source": [
    "### Reading Files Directly From a Website\n",
    "\n",
    "Many popular websites host their data online as a raw csv or json file. For particularly large data it is preferable to do this over downloading the data onto your personal machine.\n",
    "\n",
    "For example, <a href=\"https://fivethirtyeight.com/\">https://fivethirtyeight.com</a> posts all of their data on their Github profile, <a href=https://github.com/fivethirtyeight>https://github.com/fivethirtyeight</a>. Let's use one of their data sets as an example.\n",
    "\n",
    "We'll look at their candy data from the ultimate cand power ranking story, <a href=\"https://fivethirtyeight.com/videos/the-ultimate-halloween-candy-power-ranking/\">https://fivethirtyeight.com/videos/the-ultimate-halloween-candy-power-ranking/</a>. Here's the link from their github, <a href=\"https://github.com/fivethirtyeight/data/tree/master/candy-power-ranking\">https://github.com/fivethirtyeight/data/tree/master/candy-power-ranking</a>."
   ]
  },
  {
   "cell_type": "code",
   "execution_count": null,
   "metadata": {},
   "outputs": [],
   "source": [
    "# Here is the raw csv file link\n",
    "# from their github\n",
    "url = \"https://raw.githubusercontent.com/fivethirtyeight/data/master/candy-power-ranking/candy-data.csv\"\n",
    "\n",
    "# we can read it in using pd.read_csv\n",
    "candy = pd.read_csv(url)"
   ]
  },
  {
   "cell_type": "code",
   "execution_count": null,
   "metadata": {
    "scrolled": true
   },
   "outputs": [],
   "source": [
    "# A sampling of candy\n",
    "candy.sample(10)"
   ]
  },
  {
   "cell_type": "markdown",
   "metadata": {},
   "source": [
    "This process of grabbing data off the web may come in handy when you work on your projects!"
   ]
  },
  {
   "cell_type": "markdown",
   "metadata": {},
   "source": [
    "## Writing Data to File\n",
    "\n",
    "We'll end the notebook with two ways we can write data to a file.\n",
    "\n",
    "### to_csv with pandas\n",
    "\n",
    "One easy way is to use the `to_csv` method in `pandas`."
   ]
  },
  {
   "cell_type": "code",
   "execution_count": null,
   "metadata": {},
   "outputs": [],
   "source": [
    "# first make a dataframe\n",
    "inputs = [1,2,3,4,5,6,7,8,9,10]\n",
    "outputs = [2*i+11 for i in inputs]\n",
    "df = pd.DataFrame({'input':inputs,'output':outputs})\n",
    "df.head()"
   ]
  },
  {
   "cell_type": "code",
   "execution_count": null,
   "metadata": {},
   "outputs": [],
   "source": [
    "# Now try to_csv\n",
    "df.to_csv(\"test.csv\")"
   ]
  },
  {
   "cell_type": "markdown",
   "metadata": {},
   "source": [
    "#### Practice"
   ]
  },
  {
   "cell_type": "code",
   "execution_count": null,
   "metadata": {},
   "outputs": [],
   "source": [
    "# Read in test.csv using pandas, then examine the first 5 entries\n",
    "\n",
    "\n",
    "\n",
    "\n",
    "\n"
   ]
  },
  {
   "cell_type": "markdown",
   "metadata": {},
   "source": [
    "What happened?\n",
    "\n",
    "We can address that by including the input `index = False` inside `to_csv`."
   ]
  },
  {
   "cell_type": "code",
   "execution_count": null,
   "metadata": {},
   "outputs": [],
   "source": [
    "# Resave your csv without saving the index\n",
    "\n",
    "\n",
    "\n",
    "\n",
    "\n"
   ]
  },
  {
   "cell_type": "markdown",
   "metadata": {},
   "source": [
    "Depending on your usage as well as the amount of data you store you may want to store in other formats besides a csv. If that is the case I encourage you to look at the `pandas` documentation here <a href=\"https://pandas.pydata.org/pandas-docs/stable/\">pandas docs</a>, alternatively you can just google what you'd like to do and probably find an answer more quickly that way."
   ]
  },
  {
   "cell_type": "markdown",
   "metadata": {},
   "source": [
    "### Writing to File Manually Using python\n",
    "\n",
    "Just as python allows you to read a file, it also allows you to write to a file. Let's see an example."
   ]
  },
  {
   "cell_type": "code",
   "execution_count": null,
   "metadata": {},
   "outputs": [],
   "source": [
    "# open, will open a file object\n",
    "# the w+ indicates that you'd like to \n",
    "# write on the file, and if the file doesn't exist\n",
    "# python should create one for you\n",
    "file = open(\"write_to_file.csv\",\"w+\")\n",
    "\n",
    "# This will write some columns onto our file\n",
    "# The \\n tells python you want a new line\n",
    "file.write(\"name,group\\n\")"
   ]
  },
  {
   "cell_type": "code",
   "execution_count": null,
   "metadata": {},
   "outputs": [],
   "source": [
    "# Now let's return to the les mis example\n",
    "# You do some coding now\n",
    "# For each character write their name and group to file\n",
    "\n",
    "\n",
    "\n",
    "\n",
    "\n",
    "\n"
   ]
  },
  {
   "cell_type": "code",
   "execution_count": null,
   "metadata": {},
   "outputs": [],
   "source": [
    "# Run this when you're done to close your file\n",
    "file.close()"
   ]
  },
  {
   "cell_type": "markdown",
   "metadata": {},
   "source": [
    "That's it!\n",
    "\n",
    "There are additional file writing methods that are useful, check out section 7.2 of the python docs here, <a href=\"https://docs.python.org/3/tutorial/inputoutput.html\">https://docs.python.org/3/tutorial/inputoutput.html</a>, for more information."
   ]
  }
 ],
 "metadata": {
  "kernelspec": {
   "display_name": "Python 3",
   "language": "python",
   "name": "python3"
  },
  "language_info": {
   "codemirror_mode": {
    "name": "ipython",
    "version": 3
   },
   "file_extension": ".py",
   "mimetype": "text/x-python",
   "name": "python",
   "nbconvert_exporter": "python",
   "pygments_lexer": "ipython3",
   "version": "3.7.4"
  }
 },
 "nbformat": 4,
 "nbformat_minor": 2
}
